{
  "nbformat": 4,
  "nbformat_minor": 0,
  "metadata": {
    "colab": {
      "provenance": [],
      "authorship_tag": "ABX9TyN968b265mDbgTF8kfqmrN6",
      "include_colab_link": true
    },
    "kernelspec": {
      "name": "python3",
      "display_name": "Python 3"
    },
    "language_info": {
      "name": "python"
    }
  },
  "cells": [
    {
      "cell_type": "markdown",
      "metadata": {
        "id": "view-in-github",
        "colab_type": "text"
      },
      "source": [
        "<a href=\"https://colab.research.google.com/github/arkwith7/ArkChatBot/blob/master/Mecab_install.ipynb\" target=\"_parent\"><img src=\"https://colab.research.google.com/assets/colab-badge.svg\" alt=\"Open In Colab\"/></a>"
      ]
    },
    {
      "cell_type": "code",
      "execution_count": null,
      "metadata": {
        "id": "v7Q--w-BkJKS"
      },
      "outputs": [],
      "source": [
        "# konlpy, Mecab 형태소 분석기 설치 스크립트 실행\n",
        "!curl -s https://raw.githubusercontent.com/teddylee777/machine-learning/master/99-Misc/01-Colab/mecab-colab.sh | bash"
      ]
    },
    {
      "cell_type": "code",
      "source": [
        "# 정상 동작 확인\n",
        "from konlpy.tag import Okt, Mecab\n",
        "\n",
        "okt = Okt()\n",
        "mecab = Mecab()"
      ],
      "metadata": {
        "id": "JoZImpRsktq4"
      },
      "execution_count": 2,
      "outputs": []
    },
    {
      "cell_type": "code",
      "source": [
        "okt.morphs('한글 형태소 분석기(오케이티)로 테스트를 해보았습니다. 정상 설치 및 동작이 잘 됩니다.')"
      ],
      "metadata": {
        "colab": {
          "base_uri": "https://localhost:8080/"
        },
        "id": "2Muz4txzkzQi",
        "outputId": "a97b0b25-f8a0-4b3a-81b0-6313c6427d54"
      },
      "execution_count": 3,
      "outputs": [
        {
          "output_type": "execute_result",
          "data": {
            "text/plain": [
              "['한글',\n",
              " '형태소',\n",
              " '분석',\n",
              " '기',\n",
              " '(',\n",
              " '오',\n",
              " '케이티',\n",
              " ')',\n",
              " '로',\n",
              " '테스트',\n",
              " '를',\n",
              " '해보았습니다',\n",
              " '.',\n",
              " '정상',\n",
              " '설치',\n",
              " '및',\n",
              " '동작',\n",
              " '이',\n",
              " '잘',\n",
              " '됩니다',\n",
              " '.']"
            ]
          },
          "metadata": {},
          "execution_count": 3
        }
      ]
    },
    {
      "cell_type": "code",
      "source": [
        "mecab.morphs('한글 형태소 분석기(미켑)로 테스트를 해보았습니다. 정상 설치 및 동작이 잘 됩니다.')"
      ],
      "metadata": {
        "colab": {
          "base_uri": "https://localhost:8080/"
        },
        "id": "NQjlc8rLk8pu",
        "outputId": "9e7b2d01-aa32-46fa-d208-dcbf0c20058b"
      },
      "execution_count": 4,
      "outputs": [
        {
          "output_type": "execute_result",
          "data": {
            "text/plain": [
              "['한글',\n",
              " '형태소',\n",
              " '분석기',\n",
              " '(',\n",
              " '미',\n",
              " '켑',\n",
              " ')',\n",
              " '로',\n",
              " '테스트',\n",
              " '를',\n",
              " '해',\n",
              " '보',\n",
              " '았',\n",
              " '습니다',\n",
              " '.',\n",
              " '정상',\n",
              " '설치',\n",
              " '및',\n",
              " '동작',\n",
              " '이',\n",
              " '잘',\n",
              " '됩니다',\n",
              " '.']"
            ]
          },
          "metadata": {},
          "execution_count": 4
        }
      ]
    }
  ]
}