{
 "cells": [
  {
   "cell_type": "markdown",
   "id": "0fbebd42",
   "metadata": {},
   "source": [
    "## 위키피디아로 Word2Vec 학습하기\n",
    "### 1. 위키피디아로부터 데이터 다운로드 및 통합\n",
    "위키피디아로부터 데이터를 파싱하기 위한 파이썬 패키지인 wikiextractor를 설치합니다.\n",
    "\n",
    "```pip install wikiextractor```\n",
    "\n",
    "위키피디아 덤프(위키피디아 데이터)를 다운로드합니다.\n",
    "\n",
    "```!wget https://dumps.wikimedia.org/kowiki/latest/kowiki-latest-pages-articles.xml.bz2```\n",
    "\n",
    "위키익스트랙터를 사용하여 위키피디아 덤프를 파싱합니다.\n",
    "\n",
    "```!python -m wikiextractor.WikiExtractor kowiki-latest-pages-articles.xml.bz2```\n",
    "\n",
    "현재 경로에 있는 디렉토리와 파일들의 리스트를 받아옵니다."
   ]
  },
  {
   "cell_type": "code",
   "execution_count": 2,
   "id": "a30e5eff",
   "metadata": {},
   "outputs": [
    {
     "name": "stdout",
     "output_type": "stream",
     "text": [
      "/mnt/c/PJT/000NLP/ArkChatBot/jupyter_app/nlp/data/ko_wiki\n",
      "\u001b[0m\u001b[01;32mkowiki-latest-pages-articles.xml.bz2\u001b[0m*  \u001b[34;42mtext\u001b[0m/\r\n"
     ]
    }
   ],
   "source": [
    "%cd ./data/ko_wiki\n",
    "%ls"
   ]
  },
  {
   "cell_type": "code",
   "execution_count": 3,
   "id": "f4092336",
   "metadata": {},
   "outputs": [],
   "source": [
    "import os\n",
    "import re"
   ]
  },
  {
   "cell_type": "code",
   "execution_count": 4,
   "id": "d5688054",
   "metadata": {},
   "outputs": [
    {
     "data": {
      "text/plain": [
       "['AA', 'AB', 'AC', 'AD', 'AE', 'AF', 'AG', 'AH', 'AI']"
      ]
     },
     "execution_count": 4,
     "metadata": {},
     "output_type": "execute_result"
    }
   ],
   "source": [
    "os.listdir('text')\n"
   ]
  },
  {
   "cell_type": "code",
   "execution_count": 5,
   "id": "db4c46be",
   "metadata": {},
   "outputs": [
    {
     "name": "stdout",
     "output_type": "stream",
     "text": [
      "\u001b[0m\u001b[01;32mwiki_00\u001b[0m*  \u001b[01;32mwiki_13\u001b[0m*  \u001b[01;32mwiki_26\u001b[0m*  \u001b[01;32mwiki_39\u001b[0m*  \u001b[01;32mwiki_52\u001b[0m*  \u001b[01;32mwiki_65\u001b[0m*  \u001b[01;32mwiki_78\u001b[0m*  \u001b[01;32mwiki_91\u001b[0m*\r\n",
      "\u001b[01;32mwiki_01\u001b[0m*  \u001b[01;32mwiki_14\u001b[0m*  \u001b[01;32mwiki_27\u001b[0m*  \u001b[01;32mwiki_40\u001b[0m*  \u001b[01;32mwiki_53\u001b[0m*  \u001b[01;32mwiki_66\u001b[0m*  \u001b[01;32mwiki_79\u001b[0m*  \u001b[01;32mwiki_92\u001b[0m*\r\n",
      "\u001b[01;32mwiki_02\u001b[0m*  \u001b[01;32mwiki_15\u001b[0m*  \u001b[01;32mwiki_28\u001b[0m*  \u001b[01;32mwiki_41\u001b[0m*  \u001b[01;32mwiki_54\u001b[0m*  \u001b[01;32mwiki_67\u001b[0m*  \u001b[01;32mwiki_80\u001b[0m*  \u001b[01;32mwiki_93\u001b[0m*\r\n",
      "\u001b[01;32mwiki_03\u001b[0m*  \u001b[01;32mwiki_16\u001b[0m*  \u001b[01;32mwiki_29\u001b[0m*  \u001b[01;32mwiki_42\u001b[0m*  \u001b[01;32mwiki_55\u001b[0m*  \u001b[01;32mwiki_68\u001b[0m*  \u001b[01;32mwiki_81\u001b[0m*  \u001b[01;32mwiki_94\u001b[0m*\r\n",
      "\u001b[01;32mwiki_04\u001b[0m*  \u001b[01;32mwiki_17\u001b[0m*  \u001b[01;32mwiki_30\u001b[0m*  \u001b[01;32mwiki_43\u001b[0m*  \u001b[01;32mwiki_56\u001b[0m*  \u001b[01;32mwiki_69\u001b[0m*  \u001b[01;32mwiki_82\u001b[0m*  \u001b[01;32mwiki_95\u001b[0m*\r\n",
      "\u001b[01;32mwiki_05\u001b[0m*  \u001b[01;32mwiki_18\u001b[0m*  \u001b[01;32mwiki_31\u001b[0m*  \u001b[01;32mwiki_44\u001b[0m*  \u001b[01;32mwiki_57\u001b[0m*  \u001b[01;32mwiki_70\u001b[0m*  \u001b[01;32mwiki_83\u001b[0m*  \u001b[01;32mwiki_96\u001b[0m*\r\n",
      "\u001b[01;32mwiki_06\u001b[0m*  \u001b[01;32mwiki_19\u001b[0m*  \u001b[01;32mwiki_32\u001b[0m*  \u001b[01;32mwiki_45\u001b[0m*  \u001b[01;32mwiki_58\u001b[0m*  \u001b[01;32mwiki_71\u001b[0m*  \u001b[01;32mwiki_84\u001b[0m*  \u001b[01;32mwiki_97\u001b[0m*\r\n",
      "\u001b[01;32mwiki_07\u001b[0m*  \u001b[01;32mwiki_20\u001b[0m*  \u001b[01;32mwiki_33\u001b[0m*  \u001b[01;32mwiki_46\u001b[0m*  \u001b[01;32mwiki_59\u001b[0m*  \u001b[01;32mwiki_72\u001b[0m*  \u001b[01;32mwiki_85\u001b[0m*  \u001b[01;32mwiki_98\u001b[0m*\r\n",
      "\u001b[01;32mwiki_08\u001b[0m*  \u001b[01;32mwiki_21\u001b[0m*  \u001b[01;32mwiki_34\u001b[0m*  \u001b[01;32mwiki_47\u001b[0m*  \u001b[01;32mwiki_60\u001b[0m*  \u001b[01;32mwiki_73\u001b[0m*  \u001b[01;32mwiki_86\u001b[0m*  \u001b[01;32mwiki_99\u001b[0m*\r\n",
      "\u001b[01;32mwiki_09\u001b[0m*  \u001b[01;32mwiki_22\u001b[0m*  \u001b[01;32mwiki_35\u001b[0m*  \u001b[01;32mwiki_48\u001b[0m*  \u001b[01;32mwiki_61\u001b[0m*  \u001b[01;32mwiki_74\u001b[0m*  \u001b[01;32mwiki_87\u001b[0m*\r\n",
      "\u001b[01;32mwiki_10\u001b[0m*  \u001b[01;32mwiki_23\u001b[0m*  \u001b[01;32mwiki_36\u001b[0m*  \u001b[01;32mwiki_49\u001b[0m*  \u001b[01;32mwiki_62\u001b[0m*  \u001b[01;32mwiki_75\u001b[0m*  \u001b[01;32mwiki_88\u001b[0m*\r\n",
      "\u001b[01;32mwiki_11\u001b[0m*  \u001b[01;32mwiki_24\u001b[0m*  \u001b[01;32mwiki_37\u001b[0m*  \u001b[01;32mwiki_50\u001b[0m*  \u001b[01;32mwiki_63\u001b[0m*  \u001b[01;32mwiki_76\u001b[0m*  \u001b[01;32mwiki_89\u001b[0m*\r\n",
      "\u001b[01;32mwiki_12\u001b[0m*  \u001b[01;32mwiki_25\u001b[0m*  \u001b[01;32mwiki_38\u001b[0m*  \u001b[01;32mwiki_51\u001b[0m*  \u001b[01;32mwiki_64\u001b[0m*  \u001b[01;32mwiki_77\u001b[0m*  \u001b[01;32mwiki_90\u001b[0m*\r\n"
     ]
    }
   ],
   "source": [
    "%ls text/AA"
   ]
  },
  {
   "cell_type": "markdown",
   "id": "5bc49c25",
   "metadata": {},
   "source": [
    "이제 이 6개 AA ~ AF 디렉토리 안의 wiki 숫자 형태의 수많은 파일들을 하나로 통합하는 과정을 진행해야 합니다. AA ~ AF 디렉토리 안의 모든 파일들의 경로를 파이썬의 리스트 형태로 저장합니다."
   ]
  },
  {
   "cell_type": "code",
   "execution_count": 6,
   "id": "7f9420d0",
   "metadata": {},
   "outputs": [],
   "source": [
    "def list_wiki(dirname):\n",
    "    filepaths = []\n",
    "    filenames = os.listdir(dirname)\n",
    "    for filename in filenames:\n",
    "        filepath = os.path.join(dirname, filename)\n",
    "\n",
    "        if os.path.isdir(filepath):\n",
    "            # 재귀 함수\n",
    "            filepaths.extend(list_wiki(filepath))\n",
    "        else:\n",
    "            find = re.findall(r\"wiki_[0-9][0-9]\", filepath)\n",
    "            if 0 < len(find):\n",
    "                filepaths.append(filepath)\n",
    "    return sorted(filepaths)"
   ]
  },
  {
   "cell_type": "code",
   "execution_count": 8,
   "id": "2e67a943",
   "metadata": {},
   "outputs": [],
   "source": [
    "filepaths = list_wiki('text')"
   ]
  },
  {
   "cell_type": "markdown",
   "id": "f57fcff1",
   "metadata": {},
   "source": [
    "총 파일의 개수를 확인해봅시다."
   ]
  },
  {
   "cell_type": "code",
   "execution_count": 9,
   "id": "25c33eef",
   "metadata": {},
   "outputs": [
    {
     "data": {
      "text/plain": [
       "886"
      ]
     },
     "execution_count": 9,
     "metadata": {},
     "output_type": "execute_result"
    }
   ],
   "source": [
    "len(filepaths)"
   ]
  },
  {
   "cell_type": "markdown",
   "id": "c852c76e",
   "metadata": {},
   "source": [
    "총 파일의 개수는 886개입니다. 이제 output_file.txt라는 파일에 886개의 파일을 전부 하나로 합칩니다."
   ]
  },
  {
   "cell_type": "code",
   "execution_count": 10,
   "id": "149c16df",
   "metadata": {},
   "outputs": [],
   "source": [
    "with open(\"output_file.txt\", \"w\") as outfile:\n",
    "    for filename in filepaths:\n",
    "        with open(filename) as infile:\n",
    "            contents = infile.read()\n",
    "            outfile.write(contents)"
   ]
  },
  {
   "cell_type": "markdown",
   "id": "f8a84e5c",
   "metadata": {},
   "source": [
    "파일을 읽고 10줄만 출력해보겠습니다."
   ]
  },
  {
   "cell_type": "code",
   "execution_count": 11,
   "id": "5f0e1503",
   "metadata": {},
   "outputs": [
    {
     "name": "stdout",
     "output_type": "stream",
     "text": [
      "1번째 줄 :<doc id=\"5\" url=\"https://ko.wikipedia.org/wiki?curid=5\" title=\"지미 카터\">\n",
      "\n",
      "2번째 줄 :지미 카터\n",
      "\n",
      "3번째 줄 :제임스 얼 카터 주니어(, 1924년 10월 1일 ~ )는 민주당 출신 미국 39대 대통령 (1977년 ~ 1981년)이다.\n",
      "\n",
      "4번째 줄 :생애.\n",
      "\n",
      "5번째 줄 :어린 시절.\n",
      "\n",
      "6번째 줄 :지미 카터는 조지아주 섬터 카운티 플레인스 마을에서 태어났다.\n",
      "\n",
      "7번째 줄 :조지아 공과대학교를 졸업하였다. 그 후 해군에 들어가 전함·원자력·잠수함의 승무원으로 일하였다. 1953년 미국 해군 대위로 예편하였고 이후 땅콩·면화 등을 가꿔 많은 돈을 벌었다. 그의 별명이 \"땅콩 농부\" (Peanut Farmer)로 알려졌다.\n",
      "\n",
      "8번째 줄 :정계 입문.\n",
      "\n",
      "9번째 줄 :1962년 조지아주 상원 의원 선거에서 낙선하나 그 선거가 부정선거 였음을 입증하게 되어 당선되고, 1966년 조지아 주지사 선거에 낙선하지만, 1970년 조지아 주지사를 역임했다. 대통령이 되기 전 조지아주 상원의원을 두번 연임했으며, 1971년부터 1975년까지 조지아 지사로 근무했다. 조지아 주지사로 지내면서, 미국에 사는 흑인 등용법을 내세웠다.\n",
      "\n",
      "10번째 줄 :대통령 재임.\n",
      "\n"
     ]
    }
   ],
   "source": [
    "f = open('output_file.txt', encoding=\"utf8\")\n",
    "\n",
    "i = 0\n",
    "while True:\n",
    "    line = f.readline()\n",
    "    if line != '\\n':\n",
    "        i = i+1\n",
    "        print(\"%d번째 줄 :\"%i + line)\n",
    "    if i==10:\n",
    "        break \n",
    "f.close()"
   ]
  },
  {
   "cell_type": "markdown",
   "id": "b91c7948",
   "metadata": {},
   "source": [
    "### 2. 형태소 분석"
   ]
  },
  {
   "cell_type": "code",
   "execution_count": 16,
   "id": "ae39a189",
   "metadata": {},
   "outputs": [],
   "source": [
    "from tqdm import tqdm_notebook\n",
    "from konlpy.tag import Mecab"
   ]
  },
  {
   "cell_type": "markdown",
   "id": "2e90229c",
   "metadata": {},
   "source": [
    "형태소 분석기 Mecab을 사용하여 토큰화를 진행해보겠습니다."
   ]
  },
  {
   "cell_type": "code",
   "execution_count": 13,
   "id": "c306db58",
   "metadata": {},
   "outputs": [],
   "source": [
    "mecab = Mecab()"
   ]
  },
  {
   "cell_type": "markdown",
   "id": "a323688c",
   "metadata": {},
   "source": [
    "우선 output_file에는 총 몇 줄이 있는지 확인합니다."
   ]
  },
  {
   "cell_type": "code",
   "execution_count": 14,
   "id": "ba640365",
   "metadata": {},
   "outputs": [
    {
     "name": "stdout",
     "output_type": "stream",
     "text": [
      "10147017\n"
     ]
    }
   ],
   "source": [
    "f = open('output_file.txt', encoding=\"utf8\")\n",
    "lines = f.read().splitlines()\n",
    "print(len(lines))"
   ]
  },
  {
   "cell_type": "markdown",
   "id": "12c71ea4",
   "metadata": {},
   "source": [
    "10,147,017개의 줄이 존재합니다. 상위 10개만 출력해봅시다."
   ]
  },
  {
   "cell_type": "code",
   "execution_count": 15,
   "id": "e756af27",
   "metadata": {},
   "outputs": [
    {
     "data": {
      "text/plain": [
       "['<doc id=\"5\" url=\"https://ko.wikipedia.org/wiki?curid=5\" title=\"지미 카터\">',\n",
       " '지미 카터',\n",
       " '',\n",
       " '제임스 얼 카터 주니어(, 1924년 10월 1일 ~ )는 민주당 출신 미국 39대 대통령 (1977년 ~ 1981년)이다.',\n",
       " '생애.',\n",
       " '어린 시절.',\n",
       " '지미 카터는 조지아주 섬터 카운티 플레인스 마을에서 태어났다.',\n",
       " '조지아 공과대학교를 졸업하였다. 그 후 해군에 들어가 전함·원자력·잠수함의 승무원으로 일하였다. 1953년 미국 해군 대위로 예편하였고 이후 땅콩·면화 등을 가꿔 많은 돈을 벌었다. 그의 별명이 \"땅콩 농부\" (Peanut Farmer)로 알려졌다.',\n",
       " '정계 입문.',\n",
       " '1962년 조지아주 상원 의원 선거에서 낙선하나 그 선거가 부정선거 였음을 입증하게 되어 당선되고, 1966년 조지아 주지사 선거에 낙선하지만, 1970년 조지아 주지사를 역임했다. 대통령이 되기 전 조지아주 상원의원을 두번 연임했으며, 1971년부터 1975년까지 조지아 지사로 근무했다. 조지아 주지사로 지내면서, 미국에 사는 흑인 등용법을 내세웠다.']"
      ]
     },
     "execution_count": 15,
     "metadata": {},
     "output_type": "execute_result"
    }
   ],
   "source": [
    "lines[:10]"
   ]
  },
  {
   "cell_type": "markdown",
   "id": "aee5e2db",
   "metadata": {},
   "source": [
    "두번째 줄을 보면 아무런 단어도 들어있지 않은 ''와 같은 줄도 존재합니다. 해당 문자열은 형태소 분석에서 제외하도록 하고 형태소 분석을 수행해봅시다."
   ]
  },
  {
   "cell_type": "code",
   "execution_count": 17,
   "id": "8f418fcc",
   "metadata": {},
   "outputs": [
    {
     "name": "stderr",
     "output_type": "stream",
     "text": [
      "/tmp/ipykernel_17980/3594421757.py:3: TqdmDeprecationWarning: This function will be removed in tqdm==5.0.0\n",
      "Please use `tqdm.notebook.tqdm` instead of `tqdm.tqdm_notebook`\n",
      "  for line in tqdm_notebook(lines):\n"
     ]
    },
    {
     "data": {
      "application/vnd.jupyter.widget-view+json": {
       "model_id": "e0e7eb3989d04ef6939abccfd5fa6d41",
       "version_major": 2,
       "version_minor": 0
      },
      "text/plain": [
       "  0%|          | 0/10147017 [00:00<?, ?it/s]"
      ]
     },
     "metadata": {},
     "output_type": "display_data"
    }
   ],
   "source": [
    "result = []\n",
    "\n",
    "for line in tqdm_notebook(lines):\n",
    "  # 빈 문자열이 아닌 경우에만 수행\n",
    "  if line:\n",
    "    result.append(mecab.morphs(line))"
   ]
  },
  {
   "cell_type": "markdown",
   "id": "d07ff3c5",
   "metadata": {},
   "source": [
    "빈 문자열은 제외하고 형태소 분석을 진행했습니다. 이제 몇 개의 줄. 즉, 몇 개의 문장이 존재하는지 확인해봅시다."
   ]
  },
  {
   "cell_type": "code",
   "execution_count": 18,
   "id": "58aabb04",
   "metadata": {},
   "outputs": [
    {
     "data": {
      "text/plain": [
       "6846402"
      ]
     },
     "execution_count": 18,
     "metadata": {},
     "output_type": "execute_result"
    }
   ],
   "source": [
    "len(result)"
   ]
  },
  {
   "cell_type": "markdown",
   "id": "a1252ea7",
   "metadata": {},
   "source": [
    "6,846,402개로 문장의 수가 줄었습니다."
   ]
  },
  {
   "cell_type": "markdown",
   "id": "4a3bae4c",
   "metadata": {},
   "source": [
    "### 3. Word2Vec 학습\n",
    "형태소 분석을 통해서 토큰화가 진행된 상태이므로 Word2Vec을 학습합니다."
   ]
  },
  {
   "cell_type": "code",
   "execution_count": 19,
   "id": "0ea2d5a9",
   "metadata": {},
   "outputs": [],
   "source": [
    "from gensim.models import Word2Vec\n",
    "model = Word2Vec(result, vector_size=100, window=5, min_count=5, workers=4, sg=0)"
   ]
  },
  {
   "cell_type": "code",
   "execution_count": 20,
   "id": "82bf354e",
   "metadata": {},
   "outputs": [
    {
     "name": "stdout",
     "output_type": "stream",
     "text": [
      "[('한국', 0.7482331395149231), ('미국', 0.6808285117149353), ('일본', 0.6590150594711304), ('부산', 0.565693736076355), ('홍콩', 0.5645527839660645), ('이종환', 0.5511518716812134), ('오스트레일리아', 0.5466106534004211), ('태국', 0.537969172000885), ('서울', 0.5374230742454529), ('중화민국', 0.5357064604759216)]\n"
     ]
    }
   ],
   "source": [
    "model_result1 = model.wv.most_similar(\"대한민국\")\n",
    "print(model_result1)"
   ]
  },
  {
   "cell_type": "code",
   "execution_count": 21,
   "id": "86f6297f",
   "metadata": {},
   "outputs": [
    {
     "name": "stdout",
     "output_type": "stream",
     "text": [
      "[('스파이더맨', 0.8057953119277954), ('엑스맨', 0.8003357648849487), ('아이언맨', 0.7798444032669067), ('어벤저스', 0.770571768283844), ('스타워즈', 0.7508123517036438), ('퍼니셔', 0.7464526295661926), ('인크레더블', 0.7459753751754761), ('트랜스포머', 0.7437029480934143), ('《》,', 0.7385751008987427), ('솔저', 0.7296960949897766)]\n"
     ]
    }
   ],
   "source": [
    "model_result2 = model.wv.most_similar(\"어벤져스\")\n",
    "print(model_result2)"
   ]
  },
  {
   "cell_type": "code",
   "execution_count": 22,
   "id": "2635da44",
   "metadata": {},
   "outputs": [
    {
     "name": "stdout",
     "output_type": "stream",
     "text": [
      "[('집적회로', 0.7999906539916992), ('웨이퍼', 0.7655954957008362), ('연료전지', 0.7589029669761658), ('전자', 0.7503774166107178), ('트랜지스터', 0.73732590675354), ('전기차', 0.7312939167022705), ('실리콘', 0.7312069535255432), ('PCB', 0.7111230492591858), ('TSMC', 0.7083587646484375), ('가전제품', 0.6979259848594666)]\n"
     ]
    }
   ],
   "source": [
    "model_result3 = model.wv.most_similar(\"반도체\")\n",
    "print(model_result3)"
   ]
  },
  {
   "cell_type": "markdown",
   "id": "f1e3e97b",
   "metadata": {},
   "source": [
    "### 4. t-SNE 시각화:\n",
    "t-SNE is a non-linear dimensionality reduction algorithm that attempts to represent high-dimensional data and the underlying relationships between vectors in a lower-dimensional space.\n",
    "Here is a good tutorial on it: [설명](https://medium.com/@luckylwk/visualising-high-dimensional-datasets-using-pca-and-t-sne-in-python-8ef87e7915b)"
   ]
  },
  {
   "cell_type": "code",
   "execution_count": 29,
   "id": "d2c27dd0",
   "metadata": {},
   "outputs": [],
   "source": [
    "import numpy as np\n",
    "import matplotlib.pyplot as plt\n",
    "%matplotlib inline\n",
    "\n",
    "import pandas as pd\n",
    "\n",
    "import seaborn as sns\n",
    "sns.set_style(\"darkgrid\")\n",
    "\n",
    "from sklearn.decomposition import PCA\n",
    "from sklearn.manifold import TSNE"
   ]
  },
  {
   "cell_type": "markdown",
   "id": "3e0b96d8",
   "metadata": {},
   "source": [
    "To make the visualizations more relevant, we will look at the relationships between a query word (in **red**), its most similar words in the model (in **blue**), and other words from the vocabulary (in **green**)."
   ]
  },
  {
   "cell_type": "code",
   "execution_count": 24,
   "id": "b043354e",
   "metadata": {},
   "outputs": [],
   "source": [
    "def tsnescatterplot(model, word, list_names):\n",
    "    \"\"\" Plot in seaborn the results from the t-SNE dimensionality reduction algorithm of the vectors of a query word,\n",
    "    its list of most similar words, and a list of words.\n",
    "    \"\"\"\n",
    "#     arrays = np.empty((0, 300), dtype='f')\n",
    "    arrays = np.empty((0, 100), dtype='f')\n",
    "    word_labels = [word]\n",
    "    color_list  = ['red']\n",
    "\n",
    "    # adds the vector of the query word\n",
    "    arrays = np.append(arrays, model.wv.__getitem__([word]), axis=0)\n",
    "    \n",
    "    # gets list of most similar words\n",
    "    close_words = model.wv.most_similar([word])\n",
    "    \n",
    "    # adds the vector for each of the closest words to the array\n",
    "    for wrd_score in close_words:\n",
    "        wrd_vector = model.wv.__getitem__([wrd_score[0]])\n",
    "        word_labels.append(wrd_score[0])\n",
    "        color_list.append('blue')\n",
    "        arrays = np.append(arrays, wrd_vector, axis=0)\n",
    "    \n",
    "    # adds the vector for each of the words from list_names to the array\n",
    "    for wrd in list_names:\n",
    "        wrd_vector = model.wv.__getitem__([wrd])\n",
    "        word_labels.append(wrd)\n",
    "        color_list.append('green')\n",
    "        arrays = np.append(arrays, wrd_vector, axis=0)\n",
    "        \n",
    "    # Reduces the dimensionality from 300 to 50 dimensions with PCA\n",
    "    reduc = PCA(n_components=20).fit_transform(arrays)\n",
    "    \n",
    "    # Finds t-SNE coordinates for 2 dimensions\n",
    "    np.set_printoptions(suppress=True)\n",
    "    \n",
    "    Y = TSNE(n_components=2, random_state=0, perplexity=15).fit_transform(reduc)\n",
    "    \n",
    "    # Sets everything up to plot\n",
    "    df = pd.DataFrame({'x': [x for x in Y[:, 0]],\n",
    "                       'y': [y for y in Y[:, 1]],\n",
    "                       'words': word_labels,\n",
    "                       'color': color_list})\n",
    "    \n",
    "    fig, _ = plt.subplots()\n",
    "    fig.set_size_inches(9, 9)\n",
    "    \n",
    "    # Basic plot\n",
    "    p1 = sns.regplot(data=df,\n",
    "                     x=\"x\",\n",
    "                     y=\"y\",\n",
    "                     fit_reg=False,\n",
    "                     marker=\"o\",\n",
    "                     scatter_kws={'s': 40,\n",
    "                                  'facecolors': df['color']\n",
    "                                 }\n",
    "                    )\n",
    "    \n",
    "    # Adds annotations one by one with a loop\n",
    "    for line in range(0, df.shape[0]):\n",
    "         p1.text(df[\"x\"][line],\n",
    "                 df['y'][line],\n",
    "                 '  ' + df[\"words\"][line].title(),\n",
    "                 horizontalalignment='left',\n",
    "                 verticalalignment='bottom', size='medium',\n",
    "                 color=df['color'][line],\n",
    "                 weight='normal'\n",
    "                ).set_size(15)\n",
    "\n",
    "    plt.xlim(Y[:, 0].min()-50, Y[:, 0].max()+50)\n",
    "    plt.ylim(Y[:, 1].min()-50, Y[:, 1].max()+50)\n",
    "            \n",
    "    plt.title('t-SNE visualization for {}'.format(word.title()))"
   ]
  },
  {
   "cell_type": "code",
   "execution_count": 31,
   "id": "acfcc8e9",
   "metadata": {},
   "outputs": [],
   "source": [
    "# 한글깨지는거 해결\n",
    "import matplotlib as mpl\n",
    "mpl.get_configdir()\n",
    "plt.rcParams[\"font.family\"] = 'NanumGothic'"
   ]
  },
  {
   "cell_type": "code",
   "execution_count": 32,
   "id": "0261adda",
   "metadata": {},
   "outputs": [
    {
     "name": "stderr",
     "output_type": "stream",
     "text": [
      "/mnt/c/PJT/000NLP/nlp_env/lib/python3.9/site-packages/sklearn/manifold/_t_sne.py:780: FutureWarning: The default initialization in TSNE will change from 'random' to 'pca' in 1.2.\n",
      "  warnings.warn(\n",
      "/mnt/c/PJT/000NLP/nlp_env/lib/python3.9/site-packages/sklearn/manifold/_t_sne.py:790: FutureWarning: The default learning rate in TSNE will change from 200.0 to 'auto' in 1.2.\n",
      "  warnings.warn(\n",
      "/mnt/c/PJT/000NLP/nlp_env/lib/python3.9/site-packages/IPython/core/pylabtools.py:151: UserWarning: Glyph 8722 (\\N{MINUS SIGN}) missing from current font.\n",
      "  fig.canvas.print_figure(bytes_io, **kw)\n"
     ]
    },
    {
     "data": {
      "image/png": "[encoded data removed]",
      "text/plain": [
       "<Figure size 648x648 with 1 Axes>"
      ]
     },
     "metadata": {},
     "output_type": "display_data"
    }
   ],
   "source": [
    "tsnescatterplot(model, '반도체',[t[0] for t in model.wv.most_similar(positive=[\"반도체\"], topn=20)][10:])"
   ]
  },
  {
   "cell_type": "code",
   "execution_count": null,
   "id": "cfff70f5",
   "metadata": {},
   "outputs": [],
   "source": []
  }
 ],
 "metadata": {
  "kernelspec": {
   "display_name": "nlp",
   "language": "python",
   "name": "nlp_env"
  },
  "language_info": {
   "codemirror_mode": {
    "name": "ipython",
    "version": 3
   },
   "file_extension": ".py",
   "mimetype": "text/x-python",
   "name": "python",
   "nbconvert_exporter": "python",
   "pygments_lexer": "ipython3",
   "version": "3.9.12"
  }
 },
 "nbformat": 4,
 "nbformat_minor": 5
}
